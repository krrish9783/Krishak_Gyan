{
 "cells": [
  {
   "cell_type": "code",
   "execution_count": 2,
   "id": "e7dd4a0f",
   "metadata": {},
   "outputs": [
    {
     "name": "stdout",
     "output_type": "stream",
     "text": [
      "   Temparature  Humidity  Soil Moisture Soil Type  Crop Type  Nitrogen  \\\n",
      "0           26        52             38     Sandy      Maize        37   \n",
      "1           29        52             45     Loamy  Sugarcane        12   \n",
      "2           34        65             62     Black     Cotton         7   \n",
      "3           32        62             34       Red    Tobacco        22   \n",
      "4           28        54             46    Clayey      Paddy        35   \n",
      "\n",
      "   Potassium  Phosphorous Fertilizer Name  \n",
      "0          0            0            Urea  \n",
      "1          0           36             DAP  \n",
      "2          9           30        14-35-14  \n",
      "3          0           20           28-28  \n",
      "4          0            0            Urea  \n"
     ]
    }
   ],
   "source": [
    "import pandas as pd\n",
    "from sklearn.model_selection import train_test_split\n",
    "from sklearn.ensemble import RandomForestClassifier\n",
    "from sklearn.metrics import accuracy_score\n",
    "\n",
    "# Load the dataset\n",
    "data = pd.read_csv('fertilizers.csv')\n",
    "\n",
    "# Display the first few rows of the dataset to understand its structure\n",
    "print(data.head())\n"
   ]
  },
  {
   "cell_type": "code",
   "execution_count": 3,
   "id": "81b94dee",
   "metadata": {},
   "outputs": [
    {
     "name": "stdout",
     "output_type": "stream",
     "text": [
      "Accuracy of the Random Forest model: 95.00%\n"
     ]
    },
    {
     "data": {
      "text/plain": [
       "['fertilizer_model.joblib']"
      ]
     },
     "execution_count": 3,
     "metadata": {},
     "output_type": "execute_result"
    }
   ],
   "source": [
    "import pandas as pd\n",
    "from sklearn.model_selection import train_test_split\n",
    "from sklearn.ensemble import RandomForestClassifier\n",
    "from sklearn.metrics import accuracy_score\n",
    "from joblib import dump\n",
    "\n",
    "# Load the dataset\n",
    "data = pd.read_csv('fertilizers.csv')\n",
    "\n",
    "# Encode categorical variables using one-hot encoding\n",
    "data = pd.get_dummies(data, columns=['Soil Type', 'Crop Type'])\n",
    "\n",
    "# Split the dataset into features (X) and target (y)\n",
    "X = data.drop('Fertilizer Name', axis=1)\n",
    "y = data['Fertilizer Name']\n",
    "\n",
    "# Split the data into training and testing sets\n",
    "X_train, X_test, y_train, y_test = train_test_split(X, y, test_size=0.2, random_state=42)\n",
    "\n",
    "# Create a random forest classifier\n",
    "rf_classifier = RandomForestClassifier(n_estimators=100, random_state=42)\n",
    "\n",
    "# Train the model on the training data\n",
    "rf_classifier.fit(X_train, y_train)\n",
    "\n",
    "# Make predictions on the test data\n",
    "y_pred = rf_classifier.predict(X_test)\n",
    "\n",
    "# Calculate accuracy\n",
    "accuracy = accuracy_score(y_test, y_pred)\n",
    "print(f'Accuracy of the Random Forest model: {accuracy * 100:.2f}%')\n",
    "\n",
    "# Save the trained model to a file using joblib\n",
    "model_filename = 'fertilizer_model.joblib'\n",
    "dump(rf_classifier, model_filename)\n"
   ]
  },
  {
   "cell_type": "code",
   "execution_count": 4,
   "id": "1bc36e8c",
   "metadata": {},
   "outputs": [
    {
     "name": "stdout",
     "output_type": "stream",
     "text": [
      "Unique values in Temparature: [26 29 34 32 28 25 33 30 27 31 35 37 36 38]\n",
      "Unique values in Humidity: [52 65 62 54 50 64 60 58 68 70 67 53 72]\n",
      "Unique values in Soil Moisture: [38 45 62 34 46 35 64 50 42 33 28 48 65 41 31 49 39 52 44 53 37 63 30 32\n",
      " 36 40 27 61 26 58 60 43 29 51 47 54 56 57 55 59 25]\n",
      "Unique values in Nitrogen: [37 12  7 22 35  9 41 21 13 14 36 24 10 38 39 11 23  8 15  5 40  6 42  4]\n",
      "Unique values in Potassium: [ 0  9 10  7 15 13 14  8 12 18 19 16 17]\n",
      "Unique values in Phosphorous: [ 0 36 30 20 13 10 18 40 12 22 41 14 19  9 37 29 39 23 31 11 32 24 35 28\n",
      "  8 21 42 15 33 16 38 17]\n",
      "Unique values in Soil Type_Black: [False  True]\n",
      "Unique values in Soil Type_Clayey: [False  True]\n",
      "Unique values in Soil Type_Loamy: [False  True]\n",
      "Unique values in Soil Type_Red: [False  True]\n",
      "Unique values in Soil Type_Sandy: [ True False]\n",
      "Unique values in Crop Type_Barley: [False  True]\n",
      "Unique values in Crop Type_Cotton: [False  True]\n",
      "Unique values in Crop Type_Ground Nuts: [False  True]\n",
      "Unique values in Crop Type_Maize: [ True False]\n",
      "Unique values in Crop Type_Millets: [False  True]\n",
      "Unique values in Crop Type_Oil seeds: [False  True]\n",
      "Unique values in Crop Type_Paddy: [False  True]\n",
      "Unique values in Crop Type_Pulses: [False  True]\n",
      "Unique values in Crop Type_Sugarcane: [False  True]\n",
      "Unique values in Crop Type_Tobacco: [False  True]\n",
      "Unique values in Crop Type_Wheat: [False  True]\n"
     ]
    }
   ],
   "source": [
    "import pandas as pd\n",
    "\n",
    "# Load the dataset\n",
    "data = pd.read_csv('fertilizers.csv')\n",
    "\n",
    "# Encode categorical variables using one-hot encoding\n",
    "data = pd.get_dummies(data, columns=['Soil Type', 'Crop Type'])\n",
    "\n",
    "# Extract the feature set (X)\n",
    "X = data.drop('Fertilizer Name', axis=1)\n",
    "\n",
    "# Iterate through each column and print unique values\n",
    "for column in X.columns:\n",
    "    unique_values = X[column].unique()\n",
    "    print(f'Unique values in {column}: {unique_values}')\n"
   ]
  },
  {
   "cell_type": "code",
   "execution_count": null,
   "id": "0ac141b9",
   "metadata": {},
   "outputs": [],
   "source": []
  }
 ],
 "metadata": {
  "kernelspec": {
   "display_name": "Python 3 (ipykernel)",
   "language": "python",
   "name": "python3"
  },
  "language_info": {
   "codemirror_mode": {
    "name": "ipython",
    "version": 3
   },
   "file_extension": ".py",
   "mimetype": "text/x-python",
   "name": "python",
   "nbconvert_exporter": "python",
   "pygments_lexer": "ipython3",
   "version": "3.10.12"
  }
 },
 "nbformat": 4,
 "nbformat_minor": 5
}
