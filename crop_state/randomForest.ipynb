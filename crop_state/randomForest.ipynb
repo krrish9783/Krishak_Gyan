{
 "cells": [
  {
   "cell_type": "code",
   "execution_count": null,
   "id": "9d29faaa",
   "metadata": {},
   "outputs": [],
   "source": [
    "import pandas as pd\n",
    "from sklearn.model_selection import train_test_split\n",
    "from sklearn.ensemble import RandomForestClassifier\n",
    "from sklearn.metrics import accuracy_score, classification_report\n",
    "from sklearn.preprocessing import LabelEncoder\n",
    "\n",
    "# Load the data\n",
    "data = pd.read_csv('/home/krishna/Documents/Ready/crop_state/stat_data.csv')\n",
    "\n",
    "# Encode the target variable 'Crop' using LabelEncoder\n",
    "le = LabelEncoder()\n",
    "data['Crop'] = le.fit_transform(data['Crop'])\n",
    "\n",
    "# Data preprocessing (encoding categorical variables)\n",
    "data_encoded = pd.get_dummies(data, columns=['State_Name', 'District_Name', 'Season'])\n",
    "\n",
    "# Split the data into features (X) and target variable (y)\n",
    "X = data_encoded.drop(columns=['Crop'])\n",
    "y = data_encoded['Crop']\n",
    "\n",
    "# Split the data into training and testing sets\n",
    "X_train, X_test, y_train, y_test = train_test_split(X, y, test_size=0.2, random_state=42)\n",
    "\n",
    "# Create and train a RandomForestClassifier\n",
    "model = RandomForestClassifier(n_estimators=100, random_state=42)\n",
    "model.fit(X_train, y_train)\n",
    "\n",
    "# Make predictions on the test set\n",
    "y_pred = model.predict(X_test)\n",
    "\n",
    "# Evaluate the model\n",
    "accuracy = accuracy_score(y_test, y_pred)\n",
    "print(f\"Accuracy: {accuracy:.2f}\")\n",
    "\n",
    "# Generate a classification report for more detailed evaluation\n",
    "report = classification_report(y_test, y_pred)\n",
    "print(\"\\nClassification Report:\\n\", report)\n"
   ]
  },
  {
   "cell_type": "code",
   "execution_count": null,
   "id": "f17d06fb",
   "metadata": {},
   "outputs": [],
   "source": [
    "print(\"hii\")"
   ]
  }
 ],
 "metadata": {
  "kernelspec": {
   "display_name": "Python 3 (ipykernel)",
   "language": "python",
   "name": "python3"
  },
  "language_info": {
   "codemirror_mode": {
    "name": "ipython",
    "version": 3
   },
   "file_extension": ".py",
   "mimetype": "text/x-python",
   "name": "python",
   "nbconvert_exporter": "python",
   "pygments_lexer": "ipython3",
   "version": "3.10.12"
  }
 },
 "nbformat": 4,
 "nbformat_minor": 5
}
